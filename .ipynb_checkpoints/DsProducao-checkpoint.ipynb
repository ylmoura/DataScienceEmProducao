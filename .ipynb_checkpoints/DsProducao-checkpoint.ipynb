{
 "cells": [
  {
   "cell_type": "markdown",
   "id": "263494a3",
   "metadata": {
    "ExecuteTime": {
     "end_time": "2022-08-25T01:37:40.385442Z",
     "start_time": "2022-08-25T01:37:40.368870Z"
    }
   },
   "source": [
    "# 0.0 Imports"
   ]
  },
  {
   "cell_type": "code",
   "execution_count": 9,
   "id": "56f16a52",
   "metadata": {
    "ExecuteTime": {
     "end_time": "2022-08-25T01:43:07.104934Z",
     "start_time": "2022-08-25T01:43:07.075937Z"
    }
   },
   "outputs": [
    {
     "ename": "ModuleNotFoundError",
     "evalue": "No module named 'pandas'",
     "output_type": "error",
     "traceback": [
      "\u001b[1;31m---------------------------------------------------------------------------\u001b[0m",
      "\u001b[1;31mModuleNotFoundError\u001b[0m                       Traceback (most recent call last)",
      "\u001b[1;32m~\\AppData\\Local\\Temp\\ipykernel_5812\\4080736814.py\u001b[0m in \u001b[0;36m<module>\u001b[1;34m\u001b[0m\n\u001b[1;32m----> 1\u001b[1;33m \u001b[1;32mimport\u001b[0m \u001b[0mpandas\u001b[0m \u001b[1;32mas\u001b[0m \u001b[0mpd\u001b[0m\u001b[1;33m\u001b[0m\u001b[1;33m\u001b[0m\u001b[0m\n\u001b[0m",
      "\u001b[1;31mModuleNotFoundError\u001b[0m: No module named 'pandas'"
     ]
    }
   ],
   "source": [
    "import pandas as pd"
   ]
  },
  {
   "cell_type": "markdown",
   "id": "559c0287",
   "metadata": {
    "ExecuteTime": {
     "end_time": "2022-08-25T01:39:49.780929Z",
     "start_time": "2022-08-25T01:39:49.759798Z"
    }
   },
   "source": [
    "## 0.1. HELPER FUNCTIONS"
   ]
  },
  {
   "cell_type": "markdown",
   "id": "fc477827",
   "metadata": {},
   "source": [
    "## 0.2 LOADING DATA"
   ]
  },
  {
   "cell_type": "code",
   "execution_count": 8,
   "id": "0230eae1",
   "metadata": {
    "ExecuteTime": {
     "end_time": "2022-08-25T01:42:53.020411Z",
     "start_time": "2022-08-25T01:42:52.777503Z"
    }
   },
   "outputs": [
    {
     "ename": "NameError",
     "evalue": "name 'read_csv' is not defined",
     "output_type": "error",
     "traceback": [
      "\u001b[1;31m---------------------------------------------------------------------------\u001b[0m",
      "\u001b[1;31mNameError\u001b[0m                                 Traceback (most recent call last)",
      "\u001b[1;32m~\\AppData\\Local\\Temp\\ipykernel_5812\\1614772639.py\u001b[0m in \u001b[0;36m<module>\u001b[1;34m\u001b[0m\n\u001b[1;32m----> 1\u001b[1;33m \u001b[0mread_csv\u001b[0m\u001b[1;33m(\u001b[0m\u001b[1;34m'data/train.csv'\u001b[0m\u001b[1;33m,\u001b[0m \u001b[0mlow_memory\u001b[0m\u001b[1;33m=\u001b[0m\u001b[1;32mFalse\u001b[0m\u001b[1;33m)\u001b[0m \u001b[1;31m## false é para consumir com carga total da memoria\u001b[0m\u001b[1;33m\u001b[0m\u001b[1;33m\u001b[0m\u001b[0m\n\u001b[0m",
      "\u001b[1;31mNameError\u001b[0m: name 'read_csv' is not defined"
     ]
    }
   ],
   "source": [
    "df_sales_raw = pd.read_csv('data/train.csv', low_memory=False) ## false é para consumir com carga total da memoria"
   ]
  },
  {
   "cell_type": "markdown",
   "id": "ac6f5fbb",
   "metadata": {
    "ExecuteTime": {
     "end_time": "2022-08-25T01:38:48.613639Z",
     "start_time": "2022-08-25T01:38:48.595404Z"
    }
   },
   "source": [
    "# 1.0 DESCRICAO DOS DADOS"
   ]
  },
  {
   "cell_type": "code",
   "execution_count": null,
   "id": "6e72ef69",
   "metadata": {},
   "outputs": [],
   "source": []
  },
  {
   "cell_type": "code",
   "execution_count": null,
   "id": "2904137d",
   "metadata": {},
   "outputs": [],
   "source": []
  }
 ],
 "metadata": {
  "kernelspec": {
   "display_name": "Python 3 (ipykernel)",
   "language": "python",
   "name": "python3"
  },
  "language_info": {
   "codemirror_mode": {
    "name": "ipython",
    "version": 3
   },
   "file_extension": ".py",
   "mimetype": "text/x-python",
   "name": "python",
   "nbconvert_exporter": "python",
   "pygments_lexer": "ipython3",
   "version": "3.7.13"
  }
 },
 "nbformat": 4,
 "nbformat_minor": 5
}
