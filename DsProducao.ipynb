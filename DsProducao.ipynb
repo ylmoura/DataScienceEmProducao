{
 "cells": [
  {
   "cell_type": "markdown",
   "id": "60992874",
   "metadata": {
    "ExecuteTime": {
     "end_time": "2022-08-25T01:37:40.385442Z",
     "start_time": "2022-08-25T01:37:40.368870Z"
    },
    "heading_collapsed": true
   },
   "source": [
    "# 0.0 Imports"
   ]
  },
  {
   "cell_type": "code",
   "execution_count": 39,
   "id": "666ab3c8",
   "metadata": {
    "ExecuteTime": {
     "end_time": "2022-08-25T02:35:05.435833Z",
     "start_time": "2022-08-25T02:35:05.404031Z"
    },
    "hidden": true
   },
   "outputs": [],
   "source": [
    "import pandas as pd\n",
    "import inflection"
   ]
  },
  {
   "cell_type": "markdown",
   "id": "39d8dff6",
   "metadata": {
    "ExecuteTime": {
     "end_time": "2022-08-25T01:39:49.780929Z",
     "start_time": "2022-08-25T01:39:49.759798Z"
    },
    "hidden": true
   },
   "source": [
    "## 0.1. HELPER FUNCTIONS"
   ]
  },
  {
   "cell_type": "markdown",
   "id": "27f5cfc9",
   "metadata": {
    "heading_collapsed": true,
    "hidden": true
   },
   "source": [
    "## 0.2 LOADING DATA"
   ]
  },
  {
   "cell_type": "code",
   "execution_count": 15,
   "id": "927bfe0a",
   "metadata": {
    "ExecuteTime": {
     "end_time": "2022-08-25T01:52:25.492694Z",
     "start_time": "2022-08-25T01:52:22.717147Z"
    },
    "hidden": true
   },
   "outputs": [],
   "source": [
    "df_sales_raw = pd.read_csv('data/train.csv', low_memory=False) ## false é para consumir com carga total da memoria\n",
    "df_store_raw = pd.read_csv('data/store.csv', low_memory=False) ## false é para consumir com carga total da memoria\n",
    "\n",
    "# merge \n",
    "df_raw = pd.merge ( df_sales_raw, df_store_raw, how='left', on='Store')"
   ]
  },
  {
   "cell_type": "code",
   "execution_count": 16,
   "id": "42c3415b",
   "metadata": {
    "ExecuteTime": {
     "end_time": "2022-08-25T01:52:25.949704Z",
     "start_time": "2022-08-25T01:52:25.492694Z"
    },
    "hidden": true
   },
   "outputs": [
    {
     "data": {
      "text/html": [
       "<div>\n",
       "<style scoped>\n",
       "    .dataframe tbody tr th:only-of-type {\n",
       "        vertical-align: middle;\n",
       "    }\n",
       "\n",
       "    .dataframe tbody tr th {\n",
       "        vertical-align: top;\n",
       "    }\n",
       "\n",
       "    .dataframe thead th {\n",
       "        text-align: right;\n",
       "    }\n",
       "</style>\n",
       "<table border=\"1\" class=\"dataframe\">\n",
       "  <thead>\n",
       "    <tr style=\"text-align: right;\">\n",
       "      <th></th>\n",
       "      <th>Store</th>\n",
       "      <th>DayOfWeek</th>\n",
       "      <th>Date</th>\n",
       "      <th>Sales</th>\n",
       "      <th>Customers</th>\n",
       "      <th>Open</th>\n",
       "      <th>Promo</th>\n",
       "      <th>StateHoliday</th>\n",
       "      <th>SchoolHoliday</th>\n",
       "      <th>StoreType</th>\n",
       "      <th>Assortment</th>\n",
       "      <th>CompetitionDistance</th>\n",
       "      <th>CompetitionOpenSinceMonth</th>\n",
       "      <th>CompetitionOpenSinceYear</th>\n",
       "      <th>Promo2</th>\n",
       "      <th>Promo2SinceWeek</th>\n",
       "      <th>Promo2SinceYear</th>\n",
       "      <th>PromoInterval</th>\n",
       "    </tr>\n",
       "  </thead>\n",
       "  <tbody>\n",
       "    <tr>\n",
       "      <th>371505</th>\n",
       "      <td>580</td>\n",
       "      <td>6</td>\n",
       "      <td>2014-08-09</td>\n",
       "      <td>8279</td>\n",
       "      <td>1375</td>\n",
       "      <td>1</td>\n",
       "      <td>0</td>\n",
       "      <td>0</td>\n",
       "      <td>0</td>\n",
       "      <td>a</td>\n",
       "      <td>c</td>\n",
       "      <td>170.0</td>\n",
       "      <td>2.0</td>\n",
       "      <td>2009.0</td>\n",
       "      <td>0</td>\n",
       "      <td>NaN</td>\n",
       "      <td>NaN</td>\n",
       "      <td>NaN</td>\n",
       "    </tr>\n",
       "  </tbody>\n",
       "</table>\n",
       "</div>"
      ],
      "text/plain": [
       "        Store  DayOfWeek        Date  Sales  Customers  Open  Promo  \\\n",
       "371505    580          6  2014-08-09   8279       1375     1      0   \n",
       "\n",
       "       StateHoliday  SchoolHoliday StoreType Assortment  CompetitionDistance  \\\n",
       "371505            0              0         a          c                170.0   \n",
       "\n",
       "        CompetitionOpenSinceMonth  CompetitionOpenSinceYear  Promo2  \\\n",
       "371505                        2.0                    2009.0       0   \n",
       "\n",
       "        Promo2SinceWeek  Promo2SinceYear PromoInterval  \n",
       "371505              NaN              NaN           NaN  "
      ]
     },
     "execution_count": 16,
     "metadata": {},
     "output_type": "execute_result"
    }
   ],
   "source": [
    "df_raw.sample()"
   ]
  },
  {
   "cell_type": "markdown",
   "id": "4ebf116c",
   "metadata": {
    "ExecuteTime": {
     "end_time": "2022-08-25T01:38:48.613639Z",
     "start_time": "2022-08-25T01:38:48.595404Z"
    }
   },
   "source": [
    "# 1.0 DESCRICAO DOS DADOS"
   ]
  },
  {
   "cell_type": "code",
   "execution_count": 23,
   "id": "10cd4396",
   "metadata": {
    "ExecuteTime": {
     "end_time": "2022-08-25T02:09:34.898616Z",
     "start_time": "2022-08-25T02:09:34.768185Z"
    }
   },
   "outputs": [],
   "source": [
    "df1 = df_raw.copy()"
   ]
  },
  {
   "cell_type": "markdown",
   "id": "e6259a4a",
   "metadata": {
    "ExecuteTime": {
     "end_time": "2022-08-25T02:07:35.771805Z",
     "start_time": "2022-08-25T02:07:35.756061Z"
    },
    "heading_collapsed": true
   },
   "source": [
    "## 1.1. RENAME COLUMNS"
   ]
  },
  {
   "cell_type": "code",
   "execution_count": 43,
   "id": "5f861469",
   "metadata": {
    "ExecuteTime": {
     "end_time": "2022-08-25T02:41:11.516606Z",
     "start_time": "2022-08-25T02:41:11.500600Z"
    },
    "hidden": true
   },
   "outputs": [],
   "source": [
    "##df1.columns"
   ]
  },
  {
   "cell_type": "code",
   "execution_count": 44,
   "id": "dc51fa5b",
   "metadata": {
    "ExecuteTime": {
     "end_time": "2022-08-25T02:41:11.668974Z",
     "start_time": "2022-08-25T02:41:11.636949Z"
    },
    "hidden": true
   },
   "outputs": [],
   "source": [
    "cols_old = ['Store', 'DayOfWeek', 'Date', 'Sales', 'Customers', 'Open', 'Promo',\n",
    "       'StateHoliday', 'SchoolHoliday', 'StoreType', 'Assortment',\n",
    "       'CompetitionDistance', 'CompetitionOpenSinceMonth',\n",
    "       'CompetitionOpenSinceYear', 'Promo2', 'Promo2SinceWeek',\n",
    "       'Promo2SinceYear', 'PromoInterval']\n",
    "\n",
    "snakecase = lambda x: inflection.underscore (x)\n",
    "\n",
    "cols_new = list(map( snakecase, cols_old)) #map ele faz mapeamento de todas as palavras por coluna e vai levar como list\n",
    "df1.columns = cols_new\n"
   ]
  },
  {
   "cell_type": "markdown",
   "id": "f1464bd6",
   "metadata": {
    "ExecuteTime": {
     "end_time": "2022-08-25T02:19:56.972208Z",
     "start_time": "2022-08-25T02:19:56.954372Z"
    },
    "heading_collapsed": true
   },
   "source": [
    "## 1.2. DATA DIMENSIONS"
   ]
  },
  {
   "cell_type": "code",
   "execution_count": 35,
   "id": "421606ad",
   "metadata": {
    "ExecuteTime": {
     "end_time": "2022-08-25T02:32:58.358061Z",
     "start_time": "2022-08-25T02:32:58.334184Z"
    },
    "hidden": true
   },
   "outputs": [
    {
     "name": "stdout",
     "output_type": "stream",
     "text": [
      "Number of Rows: 1017209\n",
      "Number of Cols: 18\n"
     ]
    }
   ],
   "source": [
    "print( 'Number of Rows: {}'. format(df1.shape[0]))\n",
    "print( 'Number of Cols: {}'. format(df1.shape[1]))"
   ]
  },
  {
   "cell_type": "markdown",
   "id": "af0ed921",
   "metadata": {
    "heading_collapsed": true
   },
   "source": [
    "## Data Types"
   ]
  },
  {
   "cell_type": "code",
   "execution_count": 41,
   "id": "6a1deccc",
   "metadata": {
    "ExecuteTime": {
     "end_time": "2022-08-25T02:35:18.843403Z",
     "start_time": "2022-08-25T02:35:18.449017Z"
    },
    "hidden": true
   },
   "outputs": [
    {
     "data": {
      "text/plain": [
       "store                                    int64\n",
       "day_of_week                              int64\n",
       "date                            datetime64[ns]\n",
       "sales                                    int64\n",
       "customers                                int64\n",
       "open                                     int64\n",
       "promo                                    int64\n",
       "state_holiday                           object\n",
       "school_holiday                           int64\n",
       "store_type                              object\n",
       "assortment                              object\n",
       "competition_distance                   float64\n",
       "competition_open_since_month           float64\n",
       "competition_open_since_year            float64\n",
       "promo2                                   int64\n",
       "promo2_since_week                      float64\n",
       "promo2_since_year                      float64\n",
       "promo_interval                          object\n",
       "dtype: object"
      ]
     },
     "execution_count": 41,
     "metadata": {},
     "output_type": "execute_result"
    }
   ],
   "source": [
    "df1['date'] = pd.to_datetime(df1['date'])\n",
    "df1.dtypes"
   ]
  },
  {
   "cell_type": "markdown",
   "id": "76666661",
   "metadata": {
    "heading_collapsed": true
   },
   "source": [
    "## Check NA"
   ]
  },
  {
   "cell_type": "code",
   "execution_count": 42,
   "id": "4a806b7b",
   "metadata": {
    "ExecuteTime": {
     "end_time": "2022-08-25T02:36:12.285043Z",
     "start_time": "2022-08-25T02:36:11.743611Z"
    },
    "hidden": true
   },
   "outputs": [
    {
     "data": {
      "text/plain": [
       "store                                0\n",
       "day_of_week                          0\n",
       "date                                 0\n",
       "sales                                0\n",
       "customers                            0\n",
       "open                                 0\n",
       "promo                                0\n",
       "state_holiday                        0\n",
       "school_holiday                       0\n",
       "store_type                           0\n",
       "assortment                           0\n",
       "competition_distance              2642\n",
       "competition_open_since_month    323348\n",
       "competition_open_since_year     323348\n",
       "promo2                               0\n",
       "promo2_since_week               508031\n",
       "promo2_since_year               508031\n",
       "promo_interval                  508031\n",
       "dtype: int64"
      ]
     },
     "execution_count": 42,
     "metadata": {},
     "output_type": "execute_result"
    }
   ],
   "source": [
    "df1.isna().sum()"
   ]
  },
  {
   "cell_type": "code",
   "execution_count": null,
   "id": "545023d8",
   "metadata": {
    "hidden": true
   },
   "outputs": [],
   "source": []
  }
 ],
 "metadata": {
  "kernelspec": {
   "display_name": "Python 3 (ipykernel)",
   "language": "python",
   "name": "python3"
  },
  "language_info": {
   "codemirror_mode": {
    "name": "ipython",
    "version": 3
   },
   "file_extension": ".py",
   "mimetype": "text/x-python",
   "name": "python",
   "nbconvert_exporter": "python",
   "pygments_lexer": "ipython3",
   "version": "3.7.13"
  }
 },
 "nbformat": 4,
 "nbformat_minor": 5
}
